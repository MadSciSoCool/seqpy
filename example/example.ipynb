{
 "cells": [
  {
   "cell_type": "code",
   "execution_count": 1,
   "metadata": {},
   "outputs": [],
   "source": [
    "import sys\n",
    "sys.path.append(r\"D:\\Labber\\Users\\jpan\\seqpy\\src\")\n",
    "from seqpy import *\n",
    "import matplotlib.pyplot as plt\n",
    "%matplotlib widget"
   ]
  },
  {
   "cell_type": "markdown",
   "metadata": {},
   "source": [
    "## Register pulses to sequence"
   ]
  },
  {
   "cell_type": "code",
   "execution_count": 5,
   "metadata": {},
   "outputs": [
    {
     "data": {
      "application/vnd.jupyter.widget-view+json": {
       "model_id": "783881c64fb149878357303d359fd780",
       "version_major": 2,
       "version_minor": 0
      },
      "text/plain": [
       "Canvas(toolbar=Toolbar(toolitems=[('Home', 'Reset original view', 'home', 'home'), ('Back', 'Back to previous …"
      ]
     },
     "metadata": {},
     "output_type": "display_data"
    }
   ],
   "source": [
    "x, y, z = sweepables(\"x y z\")\n",
    "a = 0.2 * Gaussian(width=.1e-6, plateau=.1e-6).shift(x)\n",
    "b = 0.3 * Drag(width=.1e-6)\n",
    "c = 0.4 * Cosine(width=.2e-6, plateau=.2e-6)\n",
    "c1 = Carrier(phases=180, frequencies=100e6)\n",
    "c2 = Carrier(phases=z, frequencies=50e6)\n",
    "c3 = Carrier(phases=(0,0), frequencies=(25e6,75e6))\n",
    "s = Sequence(n_channels=2)\n",
    "s.register(0, a, c1, channel=0)\n",
    "s.register(y, b, c2, channel=0)\n",
    "s.register(1e-6, c, c3, channel=1)\n",
    "s.trigger_pos = 1.5e-6\n",
    "s.subs(x, -.1e-6)\n",
    "s.subs(y, .5e-6)\n",
    "s.subs(z, 90)6\n",
    "s.plot().show()"
   ]
  },
  {
   "cell_type": "code",
   "execution_count": 11,
   "metadata": {},
   "outputs": [
    {
     "data": {
      "text/plain": [
       "(4672,)"
      ]
     },
     "execution_count": 11,
     "metadata": {},
     "output_type": "execute_result"
    }
   ],
   "source": [
    "s.waveforms(samp_freq=2.4e9)[0].shape"
   ]
  },
  {
   "cell_type": "code",
   "execution_count": 3,
   "metadata": {},
   "outputs": [
    {
     "data": {
      "application/vnd.jupyter.widget-view+json": {
       "model_id": "fa445b1d20414e67803fa8184f091305",
       "version_major": 2,
       "version_minor": 0
      },
      "text/plain": [
       "Canvas(toolbar=Toolbar(toolitems=[('Home', 'Reset original view', 'home', 'home'), ('Back', 'Back to previous …"
      ]
     },
     "metadata": {},
     "output_type": "display_data"
    }
   ],
   "source": [
    "s.dump(\"test.json\")\n",
    "s.load(\"test.json\")\n",
    "s.subs(\"x\", -.1e-6)\n",
    "s.subs(\"y\", .5e-6)\n",
    "s.subs(\"z\", 90)\n",
    "s.trigger_pos = 150e-6\n",
    "s.plot().show()"
   ]
  },
  {
   "cell_type": "code",
   "execution_count": 4,
   "metadata": {},
   "outputs": [
    {
     "name": "stdout",
     "output_type": "stream",
     "text": [
      "Logging hadn't been started.\n",
      "Activating auto-logging. Current session state plus future input saved.\n",
      "Filename       : C:\\Users\\Vostok\\.qcodes\\logs\\command_history.log\n",
      "Mode           : append\n",
      "Output logging : True\n",
      "Raw input log  : False\n",
      "Timestamping   : True\n",
      "State          : active\n",
      "Qcodes Logfile : C:\\Users\\Vostok\\.qcodes\\logs\\211013-41956-qcodes.log\n",
      "Successfully connected to data server at 127.0.0.1:8004 api version: 6\n",
      "Successfully connected to device DEV8319 on interface 1GBE\n",
      "Connected to: Zurich Instruments HDAWG (serial:dev8319, firmware:67241) in 4.02s\n",
      "Successfully connected to data server at 127.0.0.1:8004 api version: 6\n",
      "Successfully connected to device DEV2571 on interface 1GBE\n",
      "Connected to: Zurich Instruments UHFQA (serial:dev2571, firmware:67225) in 5.58s\n"
     ]
    }
   ],
   "source": [
    "import zhinst.qcodes as ziqc\n",
    "awg = ziqc.HDAWG(\"hdawg\", \"dev8319\", interface=\"1gbe\", host=\"127.0.0.1\")\n",
    "qa = ziqc.UHFQA(\"uhfqa\", \"dev2571\", interface=\"1gbe\", host=\"127.0.0.1\")"
   ]
  },
  {
   "cell_type": "code",
   "execution_count": 5,
   "metadata": {},
   "outputs": [
    {
     "name": "stderr",
     "output_type": "stream",
     "text": [
      "2021-10-13 14:24:05,851 ¦ zhinst.toolkit.control.drivers.base.awg ¦ WARNING ¦ awg ¦ compile ¦ 206 ¦ update_zhinst_awg(sequence=s, awg=awg, period=200e-6*config.retrieve(\"SAMPLING_FREQUENCY\"), repetitions=-1)\n",
      "Please check the sequencer code for hdawg-awg-0:\n",
      "\n",
      "   11   wave w_1_1 = placeholder(112, true);\n",
      "   12   while(true){\n",
      "   13   playWave(1, w_0_0, 2, w_1_0);\n",
      "-> 14   playZero(148700);\n",
      "   15   playWave(1, w_0_1, 2, w_1_1);\n",
      "\n",
      "Compiler status string:\n",
      "Compilation started\n",
      "Detected 1 devices with a total of 1 AWG cores.\n",
      "Compiling source string\n",
      "Warning (line: 14): play length 148700 is not aligned to 16 samples and will be extended to 148704 samples\n",
      "\n",
      "Uploading ELF file to device dev8319\n",
      "\n"
     ]
    },
    {
     "name": "stdout",
     "output_type": "stream",
     "text": [
      "Upload of 2 waveforms took 0.012966 s\n"
     ]
    }
   ],
   "source": [
    "update_zhinst_awg(sequence=s, awg=awg, period=200e-6*config.retrieve(\"SAMPLING_FREQUENCY\"), repetitions=-1)"
   ]
  },
  {
   "cell_type": "markdown",
   "metadata": {},
   "source": [
    "## Multichannel testing"
   ]
  },
  {
   "cell_type": "code",
   "execution_count": 6,
   "metadata": {},
   "outputs": [
    {
     "data": {
      "application/vnd.jupyter.widget-view+json": {
       "model_id": "f60f1c858efe4f698a9d67b5a60c817c",
       "version_major": 2,
       "version_minor": 0
      },
      "text/plain": [
       "Canvas(toolbar=Toolbar(toolitems=[('Home', 'Reset original view', 'home', 'home'), ('Back', 'Back to previous …"
      ]
     },
     "metadata": {},
     "output_type": "display_data"
    }
   ],
   "source": [
    "x, y, z = sweepables(\"x y z\")\n",
    "a = 0.2 * Gaussian(width=.1e-6, plateau=.1e-6).shift(x)\n",
    "b = 0.3 * Drag(width=.1e-6)\n",
    "c = 0.4 * Cosine(width=.2e-6, plateau=.2e-6)\n",
    "c1 = Carrier(phases=180, frequencies=100e6)\n",
    "c2 = Carrier(phases=z, frequencies=50e6)\n",
    "c3 = Carrier(phases=(0,0), frequencies=(25e6,75e6))\n",
    "s = Sequence(n_channels=3)\n",
    "s.register(0, a, c1, channel=0)\n",
    "s.register(y, b, c2, channel=1)\n",
    "s.register(1e-6, c, c3, channel=2)\n",
    "s.trigger_pos = 1.5e-6\n",
    "s.subs(x, -.1e-6)\n",
    "s.subs(y, .5e-6)\n",
    "s.subs(z, 90)\n",
    "s.plot().show()"
   ]
  },
  {
   "cell_type": "code",
   "execution_count": 7,
   "metadata": {},
   "outputs": [
    {
     "name": "stdout",
     "output_type": "stream",
     "text": [
      "Upload of 1 waveforms took 0.024931 s\n",
      "Upload of 1 waveforms took 0.071806 s\n"
     ]
    }
   ],
   "source": [
    "update_zhinst_awg(sequence=s, awg=awg, period=200e-6*config.retrieve(\"SAMPLING_FREQUENCY\"), repetitions=-1, samp_freq=2.4e9)\n",
    "awg.awgs[0].run()"
   ]
  },
  {
   "cell_type": "code",
   "execution_count": 8,
   "metadata": {},
   "outputs": [
    {
     "data": {
      "application/vnd.jupyter.widget-view+json": {
       "model_id": "5d2990fdf10441408efe85d1c7c6f0f3",
       "version_major": 2,
       "version_minor": 0
      },
      "text/plain": [
       "Canvas(toolbar=Toolbar(toolitems=[('Home', 'Reset original view', 'home', 'home'), ('Back', 'Back to previous …"
      ]
     },
     "metadata": {},
     "output_type": "display_data"
    }
   ],
   "source": [
    "control_width = 1e-7\n",
    "readout_width = 500e-9\n",
    "x, y = sweepables(\"x y\")\n",
    "X = .5 * Gaussian(width=control_width)\n",
    "Y = y * Gaussian(width=control_width, plateau=x).shift(x/2)\n",
    "R = Rect(width=readout_width).shift(readout_width/2)\n",
    "cx = Carrier(phases=0, frequencies=25e6)\n",
    "cy = Carrier(phases=90, frequencies=25e6)\n",
    "cr = Carrier(phases=0, frequencies=50e6)\n",
    "seq = Sequence(n_channels=2)\n",
    "seq.register(-control_width*4, X, cx, channel=0)\n",
    "seq.register(0, Y, cy, channel=0)\n",
    "seq.register(x + control_width*4, X, cx, channel=0)\n",
    "seq.register(x + control_width*7, R, cr, channel=1)\n",
    "seq.trigger_pos = x + control_width*6\n",
    "seq.subs(x, 1e-6)\n",
    "seq.subs(y, 0.8)\n",
    "seq.plot().show()"
   ]
  },
  {
   "cell_type": "code",
   "execution_count": 9,
   "metadata": {},
   "outputs": [
    {
     "data": {
      "application/vnd.jupyter.widget-view+json": {
       "model_id": "bd0d71cf42c742cdbf47f8778d555e0f",
       "version_major": 2,
       "version_minor": 0
      },
      "text/plain": [
       "Canvas(toolbar=Toolbar(toolitems=[('Home', 'Reset original view', 'home', 'home'), ('Back', 'Back to previous …"
      ]
     },
     "metadata": {},
     "output_type": "display_data"
    }
   ],
   "source": [
    "a = 0.5 * Rect(width=1.e-6)\n",
    "c = Carrier(phases=0, frequencies=50e6)\n",
    "seq = Sequence()\n",
    "seq.register(0, a, c)\n",
    "seq.plot().show()"
   ]
  },
  {
   "cell_type": "code",
   "execution_count": 10,
   "metadata": {},
   "outputs": [
    {
     "name": "stdout",
     "output_type": "stream",
     "text": [
      "Current length of queue: 1\n"
     ]
    },
    {
     "name": "stderr",
     "output_type": "stream",
     "text": [
      "2021-10-13 14:24:27,080 ¦ zhinst.toolkit.control.drivers.base.awg ¦ WARNING ¦ awg ¦ compile ¦ 206 ¦ update_zhinst_qa(qa, seq, samp_freq=1.8e9)\n",
      "Please check the sequencer code for uhfqa-awg-0:\n",
      "\n",
      "    9   wave w_1_0 = placeholder(1808, false);\n",
      "   10   while(true){\n",
      "   11   waitDigTrigger(1, 1);\n",
      "-> 12   setTrigger(AWG_MONITOR_TRIGGER);\n",
      "   13   setTrigger(0);\n",
      "\n",
      "Compiler status string:\n",
      "Compilation started\n",
      "Detected 1 devices with a total of 1 AWG cores.\n",
      "Compiling source string\n",
      "Warning (line: 12): constant 'AWG_MONITOR_TRIGGER' is deprecated, please use 'startQA' function\n",
      "\n",
      "Uploading ELF file to device dev2571\n",
      "\n"
     ]
    },
    {
     "name": "stdout",
     "output_type": "stream",
     "text": [
      "Upload of 1 waveforms took 0.027926 s\n"
     ]
    }
   ],
   "source": [
    "# change the sampling rate to qa and change it back afterwards\n",
    "update_zhinst_qa(qa, seq, samp_freq=1.8e9)"
   ]
  },
  {
   "cell_type": "code",
   "execution_count": null,
   "metadata": {},
   "outputs": [],
   "source": []
  }
 ],
 "metadata": {
  "interpreter": {
   "hash": "6d17fd76a43ea7014857b43bdf4d8d4b74036046a581838e80c37c3d9b1f1f53"
  },
  "kernelspec": {
   "display_name": "Python 3.9.6 64-bit ('zhinst': conda)",
   "name": "python3"
  },
  "language_info": {
   "codemirror_mode": {
    "name": "ipython",
    "version": 3
   },
   "file_extension": ".py",
   "mimetype": "text/x-python",
   "name": "python",
   "nbconvert_exporter": "python",
   "pygments_lexer": "ipython3",
   "version": "3.9.6"
  }
 },
 "nbformat": 4,
 "nbformat_minor": 4
}
