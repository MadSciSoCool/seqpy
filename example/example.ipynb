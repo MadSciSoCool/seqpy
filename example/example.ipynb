{
 "cells": [
  {
   "cell_type": "code",
   "execution_count": 1,
   "source": [
    "import sys\r\n",
    "sys.path.append(r\"D:\\Labber\\Users\\jpan\\seqpy\\src\")\r\n",
    "from seqpy import *\r\n",
    "import matplotlib.pyplot as plt\r\n",
    "%matplotlib widget"
   ],
   "outputs": [],
   "metadata": {}
  },
  {
   "cell_type": "markdown",
   "source": [
    "## Register pulses to sequence"
   ],
   "metadata": {}
  },
  {
   "cell_type": "code",
   "execution_count": 2,
   "source": [
    "x, y, z = sweepables(\"x y z\")\r\n",
    "a = 0.2 * Gaussian(width=.1e-6, plateau=.1e-6).shift(x)\r\n",
    "b = 0.3 * Drag(width=.1e-6)\r\n",
    "c = 0.4 * Cosine(width=.2e-6, plateau=.2e-6)\r\n",
    "c1 = Carrier(phases=180, frequencies=100e6)\r\n",
    "c2 = Carrier(phases=z, frequencies=50e6)\r\n",
    "c3 = Carrier(phases=(0,0), frequencies=(25e6,75e6))\r\n",
    "s = Sequence(n_channels=2)\r\n",
    "s.register(0, a, c1, channel=0)\r\n",
    "s.register(y, b, c2, channel=0)\r\n",
    "s.register(1e-6, c, c3, channel=1)\r\n",
    "s.trigger_pos = 1.5e-6\r\n",
    "s.subs(x, -.1e-6)\r\n",
    "s.subs(y, .5e-6)\r\n",
    "s.subs(z, 90)\r\n",
    "s.plot().show()"
   ],
   "outputs": [
    {
     "output_type": "display_data",
     "data": {
      "application/vnd.jupyter.widget-view+json": {
       "version_major": 2,
       "version_minor": 0,
       "model_id": "e2f900d2e3964a0d9ee08a18f34b3788"
      },
      "text/plain": [
       "Canvas(toolbar=Toolbar(toolitems=[('Home', 'Reset original view', 'home', 'home'), ('Back', 'Back to previous …"
      ]
     },
     "metadata": {}
    }
   ],
   "metadata": {}
  },
  {
   "cell_type": "code",
   "execution_count": 3,
   "source": [
    "s.dump(\"test.json\")\r\n",
    "s.load(\"test.json\")\r\n",
    "s.subs(\"x\", -.1e-6)\r\n",
    "s.subs(\"y\", .5e-6)\r\n",
    "s.subs(\"z\", 90)\r\n",
    "s.trigger_pos = 150e-6\r\n",
    "s.plot().show()"
   ],
   "outputs": [
    {
     "output_type": "display_data",
     "data": {
      "application/vnd.jupyter.widget-view+json": {
       "version_major": 2,
       "version_minor": 0,
       "model_id": "d8ff80e8bf874ec7afda750e42a9b194"
      },
      "text/plain": [
       "Canvas(toolbar=Toolbar(toolitems=[('Home', 'Reset original view', 'home', 'home'), ('Back', 'Back to previous …"
      ]
     },
     "metadata": {}
    }
   ],
   "metadata": {}
  },
  {
   "cell_type": "code",
   "execution_count": 4,
   "source": [
    "import zhinst.qcodes as ziqc\r\n",
    "awg = ziqc.HDAWG(\"hdawg\", \"dev8319\", interface=\"1gbe\", host=\"127.0.0.1\")\r\n",
    "qa = ziqc.UHFQA(\"uhfqa\", \"dev2571\", interface=\"1gbe\", host=\"127.0.0.1\")"
   ],
   "outputs": [
    {
     "output_type": "stream",
     "name": "stdout",
     "text": [
      "Logging hadn't been started.\n",
      "Activating auto-logging. Current session state plus future input saved.\n",
      "Filename       : C:\\Users\\Vostok\\.qcodes\\logs\\command_history.log\n",
      "Mode           : append\n",
      "Output logging : True\n",
      "Raw input log  : False\n",
      "Timestamping   : True\n",
      "State          : active\n",
      "Qcodes Logfile : C:\\Users\\Vostok\\.qcodes\\logs\\211012-43012-qcodes.log\n",
      "Successfully connected to data server at 127.0.0.1:8004 api version: 6\n",
      "Successfully connected to device DEV8319 on interface 1GBE\n",
      "Connected to: Zurich Instruments HDAWG (serial:dev8319, firmware:67241) in 3.84s\n",
      "Successfully connected to data server at 127.0.0.1:8004 api version: 6\n",
      "Successfully connected to device DEV2571 on interface 1GBE\n",
      "Connected to: Zurich Instruments UHFQA (serial:dev2571, firmware:67225) in 5.79s\n"
     ]
    }
   ],
   "metadata": {}
  },
  {
   "cell_type": "code",
   "execution_count": 5,
   "source": [
    "update_zhinst_awg(sequence=s, awg=awg, period=200e-6*config.retrieve(\"SAMPLING_FREQUENCY\"), repetitions=-1)"
   ],
   "outputs": [
    {
     "output_type": "stream",
     "name": "stdout",
     "text": [
      "Upload of 2 waveforms took 0.019947 s\n"
     ]
    }
   ],
   "metadata": {}
  },
  {
   "cell_type": "markdown",
   "source": [
    "## Multichannel testing"
   ],
   "metadata": {}
  },
  {
   "cell_type": "code",
   "execution_count": 6,
   "source": [
    "x, y, z = sweepables(\"x y z\")\r\n",
    "a = 0.2 * Gaussian(width=.1e-6, plateau=.1e-6).shift(x)\r\n",
    "b = 0.3 * Drag(width=.1e-6)\r\n",
    "c = 0.4 * Cosine(width=.2e-6, plateau=.2e-6)\r\n",
    "c1 = Carrier(phases=180, frequencies=100e6)\r\n",
    "c2 = Carrier(phases=z, frequencies=50e6)\r\n",
    "c3 = Carrier(phases=(0,0), frequencies=(25e6,75e6))\r\n",
    "s = Sequence(n_channels=3)\r\n",
    "s.register(0, a, c1, channel=0)\r\n",
    "s.register(y, b, c2, channel=1)\r\n",
    "s.register(1e-6, c, c3, channel=2)\r\n",
    "s.trigger_pos = 1.5e-6\r\n",
    "s.subs(x, -.1e-6)\r\n",
    "s.subs(y, .5e-6)\r\n",
    "s.subs(z, 90)\r\n",
    "s.plot().show()"
   ],
   "outputs": [
    {
     "output_type": "display_data",
     "data": {
      "application/vnd.jupyter.widget-view+json": {
       "version_major": 2,
       "version_minor": 0,
       "model_id": "8c382e905abe47218c8466a2d33dee12"
      },
      "text/plain": [
       "Canvas(toolbar=Toolbar(toolitems=[('Home', 'Reset original view', 'home', 'home'), ('Back', 'Back to previous …"
      ]
     },
     "metadata": {}
    }
   ],
   "metadata": {}
  },
  {
   "cell_type": "code",
   "execution_count": 7,
   "source": [
    "update_zhinst_awg(sequence=s, awg=awg, period=200e-6*config.retrieve(\"SAMPLING_FREQUENCY\"), repetitions=-1)\r\n",
    "awg.awgs[0].run()"
   ],
   "outputs": [
    {
     "output_type": "stream",
     "name": "stdout",
     "text": [
      "Upload of 1 waveforms took 0.018306 s\n",
      "Upload of 1 waveforms took 0.022952 s\n"
     ]
    }
   ],
   "metadata": {}
  },
  {
   "cell_type": "code",
   "execution_count": 7,
   "source": [
    "control_width = 1e-7\r\n",
    "readout_width = 500e-9\r\n",
    "x, y = sweepables(\"x y\")\r\n",
    "X = .5 * Gaussian(width=control_width)\r\n",
    "Y = y * Gaussian(width=control_width, plateau=x).shift(x/2)\r\n",
    "R = Rect(width=readout_width).shift(readout_width/2)\r\n",
    "cx = Carrier(phases=0, frequencies=25e6)\r\n",
    "cy = Carrier(phases=90, frequencies=25e6)\r\n",
    "cr = Carrier(phases=0, frequencies=50e6)\r\n",
    "seq = Sequence(n_channels=2)\r\n",
    "seq.register(-control_width*4, X, cx, channel=0)\r\n",
    "seq.register(0, Y, cy, channel=0)\r\n",
    "seq.register(x + control_width*4, X, cx, channel=0)\r\n",
    "seq.register(x + control_width*7, R, cr, channel=1)\r\n",
    "seq.trigger_pos = x + control_width*6\r\n",
    "seq.subs(x, 1e-6)\r\n",
    "seq.subs(y, 0.8)\r\n",
    "seq.plot().show()"
   ],
   "outputs": [
    {
     "output_type": "display_data",
     "data": {
      "application/vnd.jupyter.widget-view+json": {
       "version_major": 2,
       "version_minor": 0,
       "model_id": "c6e806579f0d471aa2d354d92673b13b"
      },
      "text/plain": [
       "Canvas(toolbar=Toolbar(toolitems=[('Home', 'Reset original view', 'home', 'home'), ('Back', 'Back to previous …"
      ]
     },
     "metadata": {}
    }
   ],
   "metadata": {}
  },
  {
   "cell_type": "code",
   "execution_count": 9,
   "source": [
    "a = 0.5 * Rect(width=1.e-6)\r\n",
    "c = Carrier(phases=0, frequencies=50e6)\r\n",
    "seq = Sequence()\r\n",
    "seq.register(0, a, c)\r\n",
    "seq.plot().show()"
   ],
   "outputs": [
    {
     "output_type": "display_data",
     "data": {
      "application/vnd.jupyter.widget-view+json": {
       "version_major": 2,
       "version_minor": 0,
       "model_id": "e83e1b21713d4a92bdb32c99883f5061"
      },
      "text/plain": [
       "Canvas(toolbar=Toolbar(toolitems=[('Home', 'Reset original view', 'home', 'home'), ('Back', 'Back to previous …"
      ]
     },
     "metadata": {}
    }
   ],
   "metadata": {}
  },
  {
   "cell_type": "code",
   "execution_count": 10,
   "source": [
    "# change the sampling rate to qa and change it back afterwards\r\n",
    "old_samp_freq = config.retrieve(\"SAMPLING_FREQUENCY\")\r\n",
    "config.update(\"SAMPLING_FREQUENCY\", 1.8e9)\r\n",
    "try:\r\n",
    "    print(seq.length())\r\n",
    "    update_zhinst_qa(qa, seq)\r\n",
    "except Exception as e:\r\n",
    "    raise(e)\r\n",
    "finally:\r\n",
    "    config.update(\"SAMPLING_FREQUENCY\", old_samp_freq)"
   ],
   "outputs": [
    {
     "output_type": "stream",
     "name": "stdout",
     "text": [
      "1808\n",
      "Current length of queue: 1\n"
     ]
    },
    {
     "output_type": "stream",
     "name": "stderr",
     "text": [
      "2021-10-12 19:23:30,444 ¦ zhinst.toolkit.control.drivers.base.awg ¦ WARNING ¦ awg ¦ compile ¦ 206 ¦ update_zhinst_qa(qa, seq)\n",
      "Please check the sequencer code for uhfqa-awg-0:\n",
      "\n",
      "    9   wave w_1_0 = placeholder(1808, false);\n",
      "   10   while(true){\n",
      "   11   waitDigTrigger(1, 1);\n",
      "-> 12   setTrigger(AWG_MONITOR_TRIGGER);\n",
      "   13   setTrigger(0);\n",
      "\n",
      "Compiler status string:\n",
      "Compilation started\n",
      "Detected 1 devices with a total of 1 AWG cores.\n",
      "Compiling source string\n",
      "Warning (line: 12): constant 'AWG_MONITOR_TRIGGER' is deprecated, please use 'startQA' function\n",
      "\n",
      "Uploading ELF file to device dev2571\n",
      "\n"
     ]
    },
    {
     "output_type": "stream",
     "name": "stdout",
     "text": [
      "Upload of 1 waveforms took 0.028926 s\n"
     ]
    }
   ],
   "metadata": {}
  }
 ],
 "metadata": {
  "interpreter": {
   "hash": "6d17fd76a43ea7014857b43bdf4d8d4b74036046a581838e80c37c3d9b1f1f53"
  },
  "kernelspec": {
   "name": "python3",
   "display_name": "Python 3.9.6 64-bit ('zhinst': conda)"
  },
  "language_info": {
   "codemirror_mode": {
    "name": "ipython",
    "version": 3
   },
   "file_extension": ".py",
   "mimetype": "text/x-python",
   "name": "python",
   "nbconvert_exporter": "python",
   "pygments_lexer": "ipython3",
   "version": "3.9.6"
  }
 },
 "nbformat": 4,
 "nbformat_minor": 4
}