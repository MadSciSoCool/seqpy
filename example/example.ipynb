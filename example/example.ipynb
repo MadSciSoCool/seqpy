{
 "metadata": {
  "language_info": {
   "codemirror_mode": {
    "name": "ipython",
    "version": 3
   },
   "file_extension": ".py",
   "mimetype": "text/x-python",
   "name": "python",
   "nbconvert_exporter": "python",
   "pygments_lexer": "ipython3",
   "version": "3.9.5"
  },
  "orig_nbformat": 4,
  "kernelspec": {
   "name": "python3",
   "display_name": "Python 3.9.5 64-bit"
  },
  "interpreter": {
   "hash": "aee8b7b246df8f9039afb4144a1f6fd8d2ca17a180786b69acc140d282b71a49"
  }
 },
 "nbformat": 4,
 "nbformat_minor": 2,
 "cells": [
  {
   "cell_type": "code",
   "execution_count": 1,
   "source": [
    "import sys\n",
    "sys.path.append(\"/Users/pan/Projects/seqpy/\")\n",
    "from src import *\n",
    "import matplotlib.pyplot as plt\n",
    "%matplotlib widget"
   ],
   "outputs": [],
   "metadata": {}
  },
  {
   "cell_type": "code",
   "execution_count": 2,
   "source": [
    "# gloabl settings\n",
    "relative_timing(True)\n",
    "sampling_frequency(2.4e9)\n",
    "phase_alignment(\"Zero\")"
   ],
   "outputs": [],
   "metadata": {}
  },
  {
   "cell_type": "markdown",
   "source": [
    "## Generating a single pulse"
   ],
   "metadata": {}
  },
  {
   "cell_type": "code",
   "execution_count": 3,
   "source": [
    "a = Gaussian(width=100, plateau=100).shift(100)\n",
    "b = Drag(width=100).shift(-1000)\n",
    "c = Cosine(width=200, plateau=200).shift(1000)\n",
    "fig, ax = plt.subplots()\n",
    "ax.plot(2 * (0.1 + 0.2 * a + b * 0.5 + c * 0.8 + 0.3).waveform)\n",
    "fig.show()"
   ],
   "outputs": [
    {
     "output_type": "display_data",
     "data": {
      "text/plain": [
       "Canvas(toolbar=Toolbar(toolitems=[('Home', 'Reset original view', 'home', 'home'), ('Back', 'Back to previous …"
      ],
      "application/vnd.jupyter.widget-view+json": {
       "version_major": 2,
       "version_minor": 0,
       "model_id": "9c2f421aff4d4506a9159da0f57743a5"
      }
     },
     "metadata": {}
    }
   ],
   "metadata": {}
  },
  {
   "cell_type": "markdown",
   "source": [
    "## Register pulses to sequence"
   ],
   "metadata": {}
  },
  {
   "cell_type": "code",
   "execution_count": 8,
   "source": [
    "x, y = sweepables(2)\n",
    "a = x * Gaussian(width=100, plateau=100)\n",
    "b = x * Drag(width=100)\n",
    "c = x * Cosine(width=200, plateau=200)\n",
    "c1 = Carrier(phases=0, frequencies=2e7)\n",
    "c2 = Carrier(phases=180, frequencies=3e8)\n",
    "c3 = Carrier(phases=(0,0), frequencies=(1e7,3e7))\n",
    "s = Sequence(n_channels=2)\n",
    "s.register(100, a, c1, channel=0)\n",
    "s.register(y, b, c2, channel=0)\n",
    "s.register(2000, c, c3, channel=1)\n",
    "s.trigger_pos = 50\n",
    "s.subs(x, 0.5)\n",
    "s.subs(y, 700)\n",
    "s.plot().show()"
   ],
   "outputs": [
    {
     "output_type": "display_data",
     "data": {
      "text/plain": [
       "Canvas(toolbar=Toolbar(toolitems=[('Home', 'Reset original view', 'home', 'home'), ('Back', 'Back to previous …"
      ],
      "application/vnd.jupyter.widget-view+json": {
       "version_major": 2,
       "version_minor": 0,
       "model_id": "d10e277e84b44ef0a7a491183e7c5dd8"
      }
     },
     "metadata": {}
    }
   ],
   "metadata": {}
  },
  {
   "cell_type": "markdown",
   "source": [
    "## Using absolute timing"
   ],
   "metadata": {}
  },
  {
   "cell_type": "code",
   "execution_count": 15,
   "source": [
    "use_relative_timing(False)\n",
    "set_sampling_frequency(1e9)\n",
    "a = 0.3 * Gaussian(width=1e-7, plateau=1e-7)\n",
    "b = 0.5 * Drag(width=1e-7)\n",
    "c = 0.8 * Cosine(width=2e-7, plateau=2e-7)\n",
    "c1 = Carrier(phases=0, frequencies=2e6)\n",
    "c2 = Carrier(phases=180, frequencies=5e7)\n",
    "c3 = Carrier(phases=(0,0), frequencies=(8e6,9e6))\n",
    "s = Sequence()\n",
    "s.register(0, a, c1)\n",
    "s.register(1e-6, b, c2)\n",
    "s.register(2e-6, c, c3)\n",
    "fig, ax = plt.subplots()\n",
    "ax.plot(s.waveform())\n",
    "fig.show()"
   ],
   "outputs": [
    {
     "output_type": "display_data",
     "data": {
      "text/plain": [
       "Canvas(toolbar=Toolbar(toolitems=[('Home', 'Reset original view', 'home', 'home'), ('Back', 'Back to previous …"
      ],
      "application/vnd.jupyter.widget-view+json": {
       "version_major": 2,
       "version_minor": 0,
       "model_id": "abcb55ccb7b941cab18c5f23dca63b18"
      }
     },
     "metadata": {}
    }
   ],
   "metadata": {}
  },
  {
   "cell_type": "markdown",
   "source": [
    "## test: phase inversion"
   ],
   "metadata": {}
  },
  {
   "cell_type": "code",
   "execution_count": 23,
   "source": [
    "a = Rect(width=500)\n",
    "s = Sequence()\n",
    "s.register(250, a, carrier_frequencies=2e7, carrier_phases=0)\n",
    "s.register(750, a, carrier_frequencies=2e7, carrier_phases=180)\n",
    "s.register(1250, a, carrier_frequencies=2e7, carrier_phases=270)\n",
    "fig, ax = plt.subplots()\n",
    "ax.plot(s.waveform())\n",
    "fig.show()"
   ],
   "outputs": [
    {
     "output_type": "display_data",
     "data": {
      "text/plain": [
       "Canvas(toolbar=Toolbar(toolitems=[('Home', 'Reset original view', 'home', 'home'), ('Back', 'Back to previous …"
      ],
      "application/vnd.jupyter.widget-view+json": {
       "version_major": 2,
       "version_minor": 0,
       "model_id": "642dc34116404ecf835302978a50e5e6"
      }
     },
     "metadata": {}
    }
   ],
   "metadata": {}
  },
  {
   "cell_type": "code",
   "execution_count": 12,
   "source": [
    "type(a)"
   ],
   "outputs": [
    {
     "output_type": "execute_result",
     "data": {
      "text/plain": [
       "src.pulses.Gaussian"
      ]
     },
     "metadata": {},
     "execution_count": 12
    }
   ],
   "metadata": {}
  },
  {
   "cell_type": "code",
   "execution_count": null,
   "source": [],
   "outputs": [],
   "metadata": {}
  }
 ]
}