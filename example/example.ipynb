{
 "metadata": {
  "language_info": {
   "codemirror_mode": {
    "name": "ipython",
    "version": 3
   },
   "file_extension": ".py",
   "mimetype": "text/x-python",
   "name": "python",
   "nbconvert_exporter": "python",
   "pygments_lexer": "ipython3",
   "version": "3.9.5"
  },
  "orig_nbformat": 4,
  "kernelspec": {
   "name": "python3",
   "display_name": "Python 3.9.5 64-bit ('local')"
  },
  "interpreter": {
   "hash": "aee8b7b246df8f9039afb4144a1f6fd8d2ca17a180786b69acc140d282b71a49"
  }
 },
 "nbformat": 4,
 "nbformat_minor": 2,
 "cells": [
  {
   "cell_type": "code",
   "execution_count": 1,
   "metadata": {},
   "outputs": [],
   "source": [
    "import sys\n",
    "sys.path.append(r\"/Users/pan/Projects/seqpy\")\n",
    "from src import *\n",
    "import matplotlib.pyplot as plt\n",
    "%matplotlib widget"
   ]
  },
  {
   "cell_type": "code",
   "execution_count": 2,
   "metadata": {},
   "outputs": [],
   "source": [
    "use_relative_timing(True)\n",
    "set_sampling_frequency(2.4e9)"
   ]
  },
  {
   "source": [
    "## Generating a single pulse"
   ],
   "cell_type": "markdown",
   "metadata": {}
  },
  {
   "cell_type": "code",
   "execution_count": 3,
   "metadata": {},
   "outputs": [
    {
     "output_type": "display_data",
     "data": {
      "text/plain": "Canvas(toolbar=Toolbar(toolitems=[('Home', 'Reset original view', 'home', 'home'), ('Back', 'Back to previous …",
      "application/vnd.jupyter.widget-view+json": {
       "version_major": 2,
       "version_minor": 0,
       "model_id": "53932778a81f4132a9a3ec5c01c55caf"
      }
     },
     "metadata": {}
    }
   ],
   "source": [
    "a = Gaussian(width=100, plateau=100).shift(100)\n",
    "b = Drag(width=100).shift(-1000)\n",
    "c = Cosine(width=200, plateau=200).shift(1000)\n",
    "fig, ax = plt.subplots()\n",
    "ax.plot((0.1 + 0.2 * a + b * 0.5 + c * 0.8 + 0.1).waveform)\n",
    "fig.show()"
   ]
  },
  {
   "source": [
    "## Register pulses to sequence"
   ],
   "cell_type": "markdown",
   "metadata": {}
  },
  {
   "cell_type": "code",
   "execution_count": 4,
   "metadata": {},
   "outputs": [
    {
     "output_type": "display_data",
     "data": {
      "text/plain": "Canvas(toolbar=Toolbar(toolitems=[('Home', 'Reset original view', 'home', 'home'), ('Back', 'Back to previous …",
      "application/vnd.jupyter.widget-view+json": {
       "version_major": 2,
       "version_minor": 0,
       "model_id": "b11cc836c1624c8c88537121e9af2602"
      }
     },
     "metadata": {}
    }
   ],
   "source": [
    "a = 0.3 * Gaussian(width=100, plateau=100)\n",
    "b = 0.5 * Drag(width=100)\n",
    "c = 0.8 * Cosine(width=200, plateau=200)\n",
    "c1 = Carrier(phases=0, frequencies=2e7)\n",
    "c2 = Carrier(phases=180, frequencies=3e8)\n",
    "c3 = Carrier(phases=(0,0), frequencies=(1e7,3e7))\n",
    "s = Sequence()\n",
    "s.register(0, a, c1)\n",
    "s.register(1000, b, c2)\n",
    "s.register(2000, c, c3)\n",
    "fig, ax = plt.subplots()\n",
    "ax.plot(s.waveform())\n",
    "fig.show()"
   ]
  },
  {
   "source": [
    "## Getting waveform before the time zero point"
   ],
   "cell_type": "markdown",
   "metadata": {}
  },
  {
   "cell_type": "code",
   "execution_count": 5,
   "metadata": {},
   "outputs": [
    {
     "output_type": "display_data",
     "data": {
      "text/plain": "Canvas(toolbar=Toolbar(toolitems=[('Home', 'Reset original view', 'home', 'home'), ('Back', 'Back to previous …",
      "application/vnd.jupyter.widget-view+json": {
       "version_major": 2,
       "version_minor": 0,
       "model_id": "12cb19aa0330458695ed954e624c2464"
      }
     },
     "metadata": {}
    },
    {
     "output_type": "stream",
     "name": "stdout",
     "text": [
      "-300\n"
     ]
    }
   ],
   "source": [
    "fig, ax = plt.subplots()\n",
    "ax.plot(s.waveform(allow_negative=True))\n",
    "print(s.offset)\n",
    "fig.show()"
   ]
  },
  {
   "source": [
    "## Using absolute timing"
   ],
   "cell_type": "markdown",
   "metadata": {}
  },
  {
   "cell_type": "code",
   "execution_count": 15,
   "metadata": {},
   "outputs": [
    {
     "output_type": "display_data",
     "data": {
      "text/plain": "Canvas(toolbar=Toolbar(toolitems=[('Home', 'Reset original view', 'home', 'home'), ('Back', 'Back to previous …",
      "application/vnd.jupyter.widget-view+json": {
       "version_major": 2,
       "version_minor": 0,
       "model_id": "abcb55ccb7b941cab18c5f23dca63b18"
      }
     },
     "metadata": {}
    }
   ],
   "source": [
    "use_relative_timing(False)\n",
    "set_sampling_frequency(1e9)\n",
    "a = 0.3 * Gaussian(width=1e-7, plateau=1e-7)\n",
    "b = 0.5 * Drag(width=1e-7)\n",
    "c = 0.8 * Cosine(width=2e-7, plateau=2e-7)\n",
    "c1 = Carrier(phases=0, frequencies=2e6)\n",
    "c2 = Carrier(phases=180, frequencies=5e7)\n",
    "c3 = Carrier(phases=(0,0), frequencies=(8e6,9e6))\n",
    "s = Sequence()\n",
    "s.register(0, a, c1)\n",
    "s.register(1e-6, b, c2)\n",
    "s.register(2e-6, c, c3)\n",
    "fig, ax = plt.subplots()\n",
    "ax.plot(s.waveform())\n",
    "fig.show()"
   ]
  },
  {
   "source": [
    "## test: phase inversion"
   ],
   "cell_type": "markdown",
   "metadata": {}
  },
  {
   "cell_type": "code",
   "execution_count": 23,
   "metadata": {},
   "outputs": [
    {
     "output_type": "display_data",
     "data": {
      "text/plain": "Canvas(toolbar=Toolbar(toolitems=[('Home', 'Reset original view', 'home', 'home'), ('Back', 'Back to previous …",
      "application/vnd.jupyter.widget-view+json": {
       "version_major": 2,
       "version_minor": 0,
       "model_id": "642dc34116404ecf835302978a50e5e6"
      }
     },
     "metadata": {}
    }
   ],
   "source": [
    "a = Rect(width=500)\n",
    "s = Sequence()\n",
    "s.register(250, a, carrier_frequencies=2e7, carrier_phases=0)\n",
    "s.register(750, a, carrier_frequencies=2e7, carrier_phases=180)\n",
    "s.register(1250, a, carrier_frequencies=2e7, carrier_phases=270)\n",
    "fig, ax = plt.subplots()\n",
    "ax.plot(s.waveform())\n",
    "fig.show()"
   ]
  },
  {
   "cell_type": "code",
   "execution_count": null,
   "metadata": {},
   "outputs": [],
   "source": []
  }
 ]
}