{
 "metadata": {
  "language_info": {
   "codemirror_mode": {
    "name": "ipython",
    "version": 3
   },
   "file_extension": ".py",
   "mimetype": "text/x-python",
   "name": "python",
   "nbconvert_exporter": "python",
   "pygments_lexer": "ipython3",
   "version": "3.9.5"
  },
  "orig_nbformat": 4,
  "kernelspec": {
   "name": "python3",
   "display_name": "Python 3.9.5 64-bit ('local')"
  },
  "interpreter": {
   "hash": "aee8b7b246df8f9039afb4144a1f6fd8d2ca17a180786b69acc140d282b71a49"
  }
 },
 "nbformat": 4,
 "nbformat_minor": 2,
 "cells": [
  {
   "cell_type": "code",
   "execution_count": 1,
   "metadata": {},
   "outputs": [],
   "source": [
    "import sys\n",
    "sys.path.append(r\"/Users/pan/Projects/seqpy\")\n",
    "from src import *\n",
    "import matplotlib.pyplot as plt\n",
    "%matplotlib widget"
   ]
  },
  {
   "cell_type": "code",
   "execution_count": 2,
   "metadata": {},
   "outputs": [],
   "source": [
    "use_relative_timing(True)\n",
    "set_sampling_frequency(2.4e9)"
   ]
  },
  {
   "cell_type": "code",
   "execution_count": 5,
   "metadata": {},
   "outputs": [
    {
     "output_type": "display_data",
     "data": {
      "text/plain": "Canvas(toolbar=Toolbar(toolitems=[('Home', 'Reset original view', 'home', 'home'), ('Back', 'Back to previous …",
      "application/vnd.jupyter.widget-view+json": {
       "version_major": 2,
       "version_minor": 0,
       "model_id": "7fda20e4eff843e0b37931d8acc55990"
      }
     },
     "metadata": {}
    }
   ],
   "source": [
    "a = Gaussian(pos=1000, width=100, plateau=100, carrier_frequencies=(3.5e7, 3.6e7), carrier_phases=(0, 0))\n",
    "b = Drag(pos=2000, width=100, carrier_frequencies=5e7, carrier_phases=0)\n",
    "c = Cosine(pos=3000, width=200, plateau=200, carrier_frequencies=1e8, carrier_phases=180)\n",
    "c =  0.5 + (0.4 * a + 0.6 * b + 0.5 * c)\n",
    "fig, ax = plt.subplots()\n",
    "ax.plot(c.waveform)\n",
    "fig.show()"
   ]
  },
  {
   "cell_type": "code",
   "execution_count": null,
   "metadata": {},
   "outputs": [],
   "source": [
    "plt.plot"
   ]
  }
 ]
}