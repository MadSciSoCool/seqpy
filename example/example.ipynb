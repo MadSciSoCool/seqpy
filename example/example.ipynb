{
 "cells": [
  {
   "cell_type": "code",
   "execution_count": 1,
   "source": [
    "import sys\r\n",
    "sys.path.append(r\"D:\\Labber\\Users\\jpan\\seqpy\\src\")\r\n",
    "from seqpy import *\r\n",
    "import matplotlib.pyplot as plt\r\n",
    "%matplotlib widget"
   ],
   "outputs": [],
   "metadata": {}
  },
  {
   "cell_type": "code",
   "execution_count": 2,
   "source": [
    "# default settings, no need to call if no configuration files exist\r\n",
    "config.update(\"SAMPLING_FREQUENCY\", 1e9)\r\n",
    "config.update(\"PHASE_ALIGNMENT\", \"Trigger\")"
   ],
   "outputs": [],
   "metadata": {}
  },
  {
   "cell_type": "markdown",
   "source": [
    "## Register pulses to sequence"
   ],
   "metadata": {}
  },
  {
   "cell_type": "code",
   "execution_count": 8,
   "source": [
    "x, y, z = sweepables(\"x y z\")\r\n",
    "a = 0.2 * Gaussian(width=.1e-6, plateau=.1e-6).shift(x)\r\n",
    "b = 0.3 * Drag(width=.1e-6)\r\n",
    "c = 0.4 * Cosine(width=.2e-6, plateau=.2e-6)\r\n",
    "c1 = Carrier(phases=180, frequencies=100e6)\r\n",
    "c2 = Carrier(phases=z, frequencies=50e6)\r\n",
    "c3 = Carrier(phases=(0,0), frequencies=(25e6,75e6))\r\n",
    "s = Sequence(n_channels=2)\r\n",
    "s.register(0, a, c1, channel=0)\r\n",
    "s.register(y, b, c2, channel=0)\r\n",
    "s.register(1e-6, c, c3, channel=1)\r\n",
    "s.trigger_pos = 0e-6\r\n",
    "s.subs(x, -.1e-6)\r\n",
    "s.subs(y, .5e-6)\r\n",
    "s.subs(z, 90)\r\n",
    "s.plot().show()"
   ],
   "outputs": [
    {
     "output_type": "display_data",
     "data": {
      "application/vnd.jupyter.widget-view+json": {
       "version_major": 2,
       "version_minor": 0,
       "model_id": "f7fbf4d4ede14fcb9be87904af010ea4"
      },
      "text/plain": [
       "Canvas(toolbar=Toolbar(toolitems=[('Home', 'Reset original view', 'home', 'home'), ('Back', 'Back to previous …"
      ]
     },
     "metadata": {}
    }
   ],
   "metadata": {}
  },
  {
   "cell_type": "code",
   "execution_count": 7,
   "source": [
    "s.dump(\"test.json\")\r\n",
    "s.load(\"test.json\")\r\n",
    "s.subs(\"x\", -.1e-6)\r\n",
    "s.subs(\"y\", .5e-6)\r\n",
    "s.subs(\"z\", 90)\r\n",
    "s.trigger_pos = 1e-6\r\n",
    "s.plot().show()"
   ],
   "outputs": [
    {
     "output_type": "display_data",
     "data": {
      "application/vnd.jupyter.widget-view+json": {
       "version_major": 2,
       "version_minor": 0,
       "model_id": "97750929eb42444db139778aa0dba15c"
      },
      "text/plain": [
       "Canvas(toolbar=Toolbar(toolitems=[('Home', 'Reset original view', 'home', 'home'), ('Back', 'Back to previous …"
      ]
     },
     "metadata": {}
    }
   ],
   "metadata": {}
  }
 ],
 "metadata": {
  "interpreter": {
   "hash": "6d17fd76a43ea7014857b43bdf4d8d4b74036046a581838e80c37c3d9b1f1f53"
  },
  "kernelspec": {
   "name": "python3",
   "display_name": "Python 3.9.6 64-bit ('zhinst': conda)"
  },
  "language_info": {
   "codemirror_mode": {
    "name": "ipython",
    "version": 3
   },
   "file_extension": ".py",
   "mimetype": "text/x-python",
   "name": "python",
   "nbconvert_exporter": "python",
   "pygments_lexer": "ipython3",
   "version": "3.9.6"
  }
 },
 "nbformat": 4,
 "nbformat_minor": 4
}