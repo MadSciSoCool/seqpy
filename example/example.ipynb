{
 "metadata": {
  "language_info": {
   "name": "python",
   "version": "3.9.6",
   "mimetype": "text/x-python",
   "codemirror_mode": {
    "name": "ipython",
    "version": 3
   },
   "pygments_lexer": "ipython3",
   "nbconvert_exporter": "python",
   "file_extension": ".py"
  },
  "orig_nbformat": 4,
  "kernelspec": {
   "name": "python3",
   "display_name": "Python 3.9.6 64-bit"
  },
  "interpreter": {
   "hash": "aee8b7b246df8f9039afb4144a1f6fd8d2ca17a180786b69acc140d282b71a49"
  }
 },
 "nbformat": 4,
 "nbformat_minor": 2,
 "cells": [
  {
   "cell_type": "code",
   "execution_count": 1,
   "source": [
    "import sys\n",
    "sys.path.append(\"/Users/pan/Projects/seqpy/\")\n",
    "from src import *\n",
    "import matplotlib.pyplot as plt\n",
    "%matplotlib widget"
   ],
   "outputs": [],
   "metadata": {}
  },
  {
   "cell_type": "code",
   "execution_count": 2,
   "source": [
    "# gloabl settings\n",
    "relative_timing(True)\n",
    "sampling_frequency(2.4e9)\n",
    "phase_alignment(\"Zero\")"
   ],
   "outputs": [],
   "metadata": {}
  },
  {
   "cell_type": "markdown",
   "source": [
    "## Generating a single pulse"
   ],
   "metadata": {}
  },
  {
   "cell_type": "code",
   "execution_count": 3,
   "source": [
    "a = Gaussian(width=100, plateau=100).shift(100)\n",
    "b = Drag(width=100).shift(-1000)\n",
    "c = Cosine(width=200, plateau=200).shift(1000)\n",
    "fig, ax = plt.subplots()\n",
    "ax.plot(2 * (0.1 + 0.2 * a + b * 0.5 + c * 0.8 + 0.3).waveform)\n",
    "fig.show()"
   ],
   "outputs": [
    {
     "output_type": "display_data",
     "data": {
      "text/plain": [
       "Canvas(toolbar=Toolbar(toolitems=[('Home', 'Reset original view', 'home', 'home'), ('Back', 'Back to previous …"
      ],
      "application/vnd.jupyter.widget-view+json": {
       "version_major": 2,
       "version_minor": 0,
       "model_id": "ba91f0733cdf4aacac4ec0715c5dd556"
      }
     },
     "metadata": {}
    }
   ],
   "metadata": {}
  },
  {
   "cell_type": "markdown",
   "source": [
    "## Register pulses to sequence"
   ],
   "metadata": {}
  },
  {
   "cell_type": "code",
   "execution_count": 4,
   "source": [
    "x, y, z = sweepables(3)\n",
    "# x, y, z = 0.8, 1000, 90\n",
    "a = x * Gaussian(width=100, plateau=100)\n",
    "b = x * Drag(width=100)\n",
    "c = x * Cosine(width=200, plateau=200)\n",
    "c1 = Carrier(phases=z, frequencies=2e7)\n",
    "c2 = Carrier(phases=z, frequencies=3e8)\n",
    "c3 = Carrier(phases=(0,0), frequencies=(1e7,3e7))\n",
    "s = Sequence(n_channels=2)\n",
    "s.register(100, a, c1, channel=0)\n",
    "s.register(y, b, c2, channel=0)\n",
    "s.register(2000, c, c3, channel=1)\n",
    "s.trigger_pos = 50\n",
    "s.subs(x, 0.8)\n",
    "s.subs(y, 1000)\n",
    "s.subs(z, 90)\n",
    "s.plot().show()"
   ],
   "outputs": [
    {
     "output_type": "display_data",
     "data": {
      "text/plain": [
       "Canvas(toolbar=Toolbar(toolitems=[('Home', 'Reset original view', 'home', 'home'), ('Back', 'Back to previous …"
      ],
      "application/vnd.jupyter.widget-view+json": {
       "version_major": 2,
       "version_minor": 0,
       "model_id": "c8d90a77e71c44efb8d5f24991435418"
      }
     },
     "metadata": {}
    }
   ],
   "metadata": {}
  },
  {
   "cell_type": "code",
   "execution_count": 5,
   "source": [
    "# TODO: the order of the symbols is distorted, could call subs with name to avoid\n",
    "s.dump(\"test.json\")\n",
    "x, y, z = s.load(\"test.json\")\n",
    "s.subs(\"x0\", 0.8)\n",
    "s.subs(\"x1\", 1000)\n",
    "s.subs(\"x2\", 90)\n",
    "s.plot().show()"
   ],
   "outputs": [
    {
     "output_type": "display_data",
     "data": {
      "text/plain": [
       "Canvas(toolbar=Toolbar(toolitems=[('Home', 'Reset original view', 'home', 'home'), ('Back', 'Back to previous …"
      ],
      "application/vnd.jupyter.widget-view+json": {
       "version_major": 2,
       "version_minor": 0,
       "model_id": "27a80c4636834ed9866ec929f3a7d28a"
      }
     },
     "metadata": {}
    }
   ],
   "metadata": {}
  },
  {
   "cell_type": "markdown",
   "source": [
    "## Using absolute timing"
   ],
   "metadata": {}
  },
  {
   "cell_type": "code",
   "execution_count": 6,
   "source": [
    "relative_timing(False)\n",
    "sampling_frequency(1e9)\n",
    "a = 0.3 * Gaussian(width=1e-7, plateau=1e-7)\n",
    "b = 0.5 * Drag(width=1e-7)\n",
    "c = 0.8 * Cosine(width=2e-7, plateau=2e-7)\n",
    "c1 = Carrier(phases=0, frequencies=2e6)\n",
    "c2 = Carrier(phases=180, frequencies=5e7)\n",
    "c3 = Carrier(phases=(0,0), frequencies=(8e6,9e6))\n",
    "s = Sequence()\n",
    "s.register(0, a, c1)\n",
    "s.register(1e-6, b, c2)\n",
    "s.register(2e-6, c, c3)\n",
    "s.plot().show()"
   ],
   "outputs": [
    {
     "output_type": "display_data",
     "data": {
      "text/plain": [
       "Canvas(toolbar=Toolbar(toolitems=[('Home', 'Reset original view', 'home', 'home'), ('Back', 'Back to previous …"
      ],
      "application/vnd.jupyter.widget-view+json": {
       "version_major": 2,
       "version_minor": 0,
       "model_id": "164aacb5b84c441b9e1a605c4b8181ae"
      }
     },
     "metadata": {}
    }
   ],
   "metadata": {}
  },
  {
   "cell_type": "code",
   "execution_count": null,
   "source": [],
   "outputs": [],
   "metadata": {}
  }
 ]
}